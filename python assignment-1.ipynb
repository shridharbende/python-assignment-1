{
 "cells": [
  {
   "cell_type": "markdown",
   "id": "ff25c2b3-c268-4b74-b4b5-bf663afe3198",
   "metadata": {},
   "source": [
    "Q1. Which keyword is used to create a function? Create a function to return a list of odd numbers in the\n",
    "range of 1 to 25."
   ]
  },
  {
   "cell_type": "markdown",
   "id": "8377a394-6f61-4ed3-a17a-59eb0fe27b78",
   "metadata": {},
   "source": [
    "Ans: def keyword is used to create a function."
   ]
  },
  {
   "cell_type": "code",
   "execution_count": 4,
   "id": "0a94744a-1ae4-4cf6-8af0-a4e00e55f532",
   "metadata": {},
   "outputs": [
    {
     "data": {
      "text/plain": [
       "[1, 3, 5, 7, 9, 11, 13, 15, 17, 19, 21, 23]"
      ]
     },
     "execution_count": 4,
     "metadata": {},
     "output_type": "execute_result"
    }
   ],
   "source": [
    "def listOfodd():\n",
    "    \"\"\"a function to return a list of odd numbers in the range of 1 to 25.\"\"\"\n",
    "    l1=[]\n",
    "    for i in range(1,25):\n",
    "        if i%2 != 0:\n",
    "            l1.append(i)\n",
    "    return l1\n",
    "listOfodd()"
   ]
  },
  {
   "cell_type": "markdown",
   "id": "0c52d456-b907-41e7-9a15-da76ecd9832c",
   "metadata": {},
   "source": [
    "Q2. Why *args and **kwargs is used in some functions? Create a function each for *args and **kwargs\n",
    "to demonstrate their use."
   ]
  },
  {
   "cell_type": "markdown",
   "id": "13812f90-7659-441c-b6fe-ee9a89c9f084",
   "metadata": {},
   "source": [
    "Ans: We use *args and **kwargs as an argument when we are unsure about the number of arguments to pass in the functions."
   ]
  },
  {
   "cell_type": "code",
   "execution_count": 1,
   "id": "405c98fc-6a3d-4a05-985f-f5e93795e51d",
   "metadata": {},
   "outputs": [],
   "source": [
    "#a function for *args to demonstrate its use.\n",
    "def test1(*args):\n",
    "    return args"
   ]
  },
  {
   "cell_type": "code",
   "execution_count": 15,
   "id": "64411cca-8f12-4ff6-b862-43a005ef250c",
   "metadata": {},
   "outputs": [
    {
     "data": {
      "text/plain": [
       "(1, 2, 5, 4, 5, 'shridhar')"
      ]
     },
     "execution_count": 15,
     "metadata": {},
     "output_type": "execute_result"
    }
   ],
   "source": [
    "test1(1,2,5,4,5, \"shridhar\")"
   ]
  },
  {
   "cell_type": "code",
   "execution_count": 22,
   "id": "d129500c-6adb-4f5c-9fb7-17bbe294687b",
   "metadata": {},
   "outputs": [],
   "source": [
    "#a function for kwargs to demonstrate its use.\n",
    "def test2(**kwargs):\n",
    "    return kwargs"
   ]
  },
  {
   "cell_type": "code",
   "execution_count": 26,
   "id": "73fb9bcc-78a7-49e6-831b-b0d80b863ce8",
   "metadata": {},
   "outputs": [
    {
     "data": {
      "text/plain": [
       "{'FirstName': 'shridhar',\n",
       " 'LastName': 'bende',\n",
       " 'Location': 'nagpur',\n",
       " 'Course': 'Data Science Master'}"
      ]
     },
     "execution_count": 26,
     "metadata": {},
     "output_type": "execute_result"
    }
   ],
   "source": [
    "test2(FirstName= \"shridhar\", LastName= \"bende\", Location= \"nagpur\", Course= \"Data Science Master\")"
   ]
  },
  {
   "cell_type": "markdown",
   "id": "6beff9a4-6f9b-4e4e-a52c-7033e760b411",
   "metadata": {},
   "source": [
    "Q3. What is an iterator in python? Name the method used to initialise the iterator object and the method\n",
    "used for iteration. Use these methods to print the first five elements of the given list [2, 4, 6, 8, 10, 12, 14,\n",
    "16, 18, 20]."
   ]
  },
  {
   "cell_type": "markdown",
   "id": "d80ebf7b-abc1-4741-9f58-7f3b44e77398",
   "metadata": {},
   "source": [
    "Ans: Iterators are methods that iterate collections like lists, tuples, etc. Using an iterator method, we can loop through an object and return its elements. The for loop in Python is used to iterate over a sequence of elements, such as a list, tuple, or string. When we use the for loop with an iterator, the loop will automatically iterate over the elements of the iterator until it is exhausted."
   ]
  },
  {
   "cell_type": "code",
   "execution_count": 27,
   "id": "250c7330-3e85-427d-91b7-b677f8886f03",
   "metadata": {},
   "outputs": [
    {
     "name": "stdout",
     "output_type": "stream",
     "text": [
      "2\n",
      "4\n",
      "6\n",
      "8\n",
      "10\n"
     ]
    }
   ],
   "source": [
    "l=[2, 4, 6, 8, 10, 12, 14, 16, 18, 20]\n",
    "l1=iter(l)\n",
    "for i in range(5):\n",
    "    print(next(l1))"
   ]
  },
  {
   "cell_type": "markdown",
   "id": "15e33263-2cec-4689-9d8b-546dd5041688",
   "metadata": {},
   "source": [
    "Q4. What is a generator function in python? Why yield keyword is used? Give an example of a generator\n",
    "function."
   ]
  },
  {
   "cell_type": "markdown",
   "id": "2794144f-1c99-4f23-801a-73970ab1eac0",
   "metadata": {},
   "source": [
    "Ans: A generator function in Python is a special type of function that returns a generator iterator, which can be used to iterate over a sequence of elements. A generator function is defined like a normal function, but instead of using the return statement to return a value, it uses the yield statement. The yield statement is used to produce a value, and the generator function can be resumed from where it left off the next time next() is called on the generator.\n",
    "\n",
    "Here's an example of a generator function that generates the Fibonacci sequence:\n",
    "\n",
    "\n"
   ]
  },
  {
   "cell_type": "code",
   "execution_count": 30,
   "id": "83a5e535-2be0-4837-a9f7-62df1709e329",
   "metadata": {},
   "outputs": [],
   "source": [
    "def x_fib(n):\n",
    "    a,b = 0,1\n",
    "    for i in range(n):\n",
    "        yield a\n",
    "        a,b = b, a+b"
   ]
  },
  {
   "cell_type": "code",
   "execution_count": 32,
   "id": "cadaca84-ca7a-4d75-a404-e9bc1dab8b54",
   "metadata": {},
   "outputs": [
    {
     "name": "stdout",
     "output_type": "stream",
     "text": [
      "0\n",
      "1\n",
      "1\n",
      "2\n",
      "3\n",
      "5\n",
      "8\n",
      "13\n",
      "21\n",
      "34\n"
     ]
    }
   ],
   "source": [
    "for i in x_fib(10):\n",
    "    print(i)\n"
   ]
  },
  {
   "cell_type": "markdown",
   "id": "7c89101f-4c5b-497e-a122-b65e9d67314b",
   "metadata": {},
   "source": [
    "Q5. Create a generator function for prime numbers less than 1000. Use the next() method to print the\n",
    "first 20 prime numbers."
   ]
  },
  {
   "cell_type": "code",
   "execution_count": 33,
   "id": "2e4f12b9-dc02-4c54-877a-354e95e0c5ba",
   "metadata": {},
   "outputs": [],
   "source": [
    "def prime():\n",
    "    a = int\n",
    "    for i in range(1000):\n",
    "        if i!=0:\n",
    "            c=0\n",
    "            for j in range(i):\n",
    "                if j>1 and i%j==0:\n",
    "                    c+=1\n",
    "            if c==0:\n",
    "                yield a\n",
    "                a=i"
   ]
  },
  {
   "cell_type": "code",
   "execution_count": 39,
   "id": "25532734-5d23-4381-912e-8e122545b274",
   "metadata": {},
   "outputs": [
    {
     "name": "stdout",
     "output_type": "stream",
     "text": [
      "<class 'int'>\n",
      "1\n",
      "2\n",
      "3\n",
      "5\n",
      "7\n",
      "11\n",
      "13\n",
      "17\n",
      "19\n",
      "23\n",
      "29\n",
      "31\n",
      "37\n",
      "41\n",
      "43\n",
      "47\n",
      "53\n",
      "59\n",
      "61\n"
     ]
    }
   ],
   "source": [
    "number= prime()\n",
    "for i in range(20):\n",
    "    print(next(number))\n"
   ]
  },
  {
   "cell_type": "markdown",
   "id": "ead363e4-bef4-4c24-a393-ffbad4b2e0d4",
   "metadata": {},
   "source": [
    "Q6. Write a python program to print the first 10 Fibonacci numbers using a while loop."
   ]
  },
  {
   "cell_type": "code",
   "execution_count": 41,
   "id": "eec9a0bd-894b-41d2-a0d9-8c189dab7819",
   "metadata": {},
   "outputs": [],
   "source": [
    "def fibo_n(n):\n",
    "    a, b = 0, 1\n",
    "    count = 0\n",
    "    while count < n:\n",
    "        print(a)\n",
    "        a, b = b, a + b\n",
    "        count += 1"
   ]
  },
  {
   "cell_type": "code",
   "execution_count": 42,
   "id": "3a3b87b4-10a2-4915-bd13-201fc5b3481d",
   "metadata": {},
   "outputs": [
    {
     "name": "stdout",
     "output_type": "stream",
     "text": [
      "0\n",
      "1\n",
      "1\n",
      "2\n",
      "3\n",
      "5\n",
      "8\n",
      "13\n",
      "21\n",
      "34\n"
     ]
    }
   ],
   "source": [
    "fibo_n(10)"
   ]
  },
  {
   "cell_type": "markdown",
   "id": "be77161d-2292-4d77-9732-ffad8a7a08f2",
   "metadata": {},
   "source": [
    "Q7. Write a List Comprehension to iterate through the given string: ‘pwskills’.\n",
    "Expected output: ['p', 'w', 's', 'k', 'i', 'l', 'l', 's']"
   ]
  },
  {
   "cell_type": "code",
   "execution_count": 44,
   "id": "b77142b9-412f-45a9-931f-05892b6de69b",
   "metadata": {},
   "outputs": [],
   "source": [
    "s = \"pwskills\"\n",
    "l1 = []\n",
    "for i in s:\n",
    "    l1.append(i)"
   ]
  },
  {
   "cell_type": "code",
   "execution_count": 45,
   "id": "1334c65b-5745-490a-8ffc-74f4bb71dde6",
   "metadata": {},
   "outputs": [
    {
     "data": {
      "text/plain": [
       "['p', 'w', 's', 'k', 'i', 'l', 'l', 's']"
      ]
     },
     "execution_count": 45,
     "metadata": {},
     "output_type": "execute_result"
    }
   ],
   "source": [
    "l1"
   ]
  },
  {
   "cell_type": "markdown",
   "id": "d8b1533a-2787-4ddb-b38b-a6befaebf4f1",
   "metadata": {},
   "source": [
    "Q8. Write a python program to check whether a given number is Palindrome or not using a while loop."
   ]
  },
  {
   "cell_type": "code",
   "execution_count": 51,
   "id": "6e13324d-a6f3-4a42-8758-605e16dc7631",
   "metadata": {},
   "outputs": [
    {
     "name": "stdin",
     "output_type": "stream",
     "text": [
      " 45\n"
     ]
    },
    {
     "name": "stdout",
     "output_type": "stream",
     "text": [
      "Given number is not a palindrome\n"
     ]
    }
   ],
   "source": [
    "s=input()\n",
    "l=list(s)\n",
    "l1=l[::-1]\n",
    "k=0\n",
    "i=0\n",
    "while i<len(l):\n",
    "    if(l[i]==l1[i]):\n",
    "        k+=1\n",
    "    i+=1\n",
    "if k==len(l):\n",
    "    print(\"Given number is a palindrome\")\n",
    "else:\n",
    "    print(\"Given number is not a palindrome\")"
   ]
  },
  {
   "cell_type": "markdown",
   "id": "5bb94d31-421d-4f0d-800b-1ed7411c40f2",
   "metadata": {},
   "source": [
    "Q9. Write a code to print odd numbers from 1 to 100 using list comprehension."
   ]
  },
  {
   "cell_type": "code",
   "execution_count": 52,
   "id": "6841da2a-a366-49dc-8e78-93d9b0626f28",
   "metadata": {},
   "outputs": [
    {
     "data": {
      "text/plain": [
       "[1,\n",
       " 3,\n",
       " 5,\n",
       " 7,\n",
       " 9,\n",
       " 11,\n",
       " 13,\n",
       " 15,\n",
       " 17,\n",
       " 19,\n",
       " 21,\n",
       " 23,\n",
       " 25,\n",
       " 27,\n",
       " 29,\n",
       " 31,\n",
       " 33,\n",
       " 35,\n",
       " 37,\n",
       " 39,\n",
       " 41,\n",
       " 43,\n",
       " 45,\n",
       " 47,\n",
       " 49,\n",
       " 51,\n",
       " 53,\n",
       " 55,\n",
       " 57,\n",
       " 59,\n",
       " 61,\n",
       " 63,\n",
       " 65,\n",
       " 67,\n",
       " 69,\n",
       " 71,\n",
       " 73,\n",
       " 75,\n",
       " 77,\n",
       " 79,\n",
       " 81,\n",
       " 83,\n",
       " 85,\n",
       " 87,\n",
       " 89,\n",
       " 91,\n",
       " 93,\n",
       " 95,\n",
       " 97,\n",
       " 99]"
      ]
     },
     "execution_count": 52,
     "metadata": {},
     "output_type": "execute_result"
    }
   ],
   "source": [
    "l=[]\n",
    "for i in range(100):\n",
    "    l.append(i+1)\n",
    "list(filter(lambda x:x%2!=0,l))"
   ]
  }
 ],
 "metadata": {
  "kernelspec": {
   "display_name": "Python 3 (ipykernel)",
   "language": "python",
   "name": "python3"
  },
  "language_info": {
   "codemirror_mode": {
    "name": "ipython",
    "version": 3
   },
   "file_extension": ".py",
   "mimetype": "text/x-python",
   "name": "python",
   "nbconvert_exporter": "python",
   "pygments_lexer": "ipython3",
   "version": "3.10.8"
  }
 },
 "nbformat": 4,
 "nbformat_minor": 5
}
